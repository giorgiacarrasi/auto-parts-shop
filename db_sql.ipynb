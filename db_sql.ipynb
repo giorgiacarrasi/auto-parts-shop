{
 "cells": [
  {
   "cell_type": "code",
   "execution_count": null,
   "metadata": {},
   "outputs": [],
   "source": [
    "!pip install pandas"
   ]
  },
  {
   "cell_type": "code",
   "execution_count": 7,
   "metadata": {
    "collapsed": false,
    "pycharm": {
     "name": "#%%\n"
    }
   },
   "outputs": [
    {
     "name": "stdout",
     "output_type": "stream",
     "text": [
      "SQLite3 ver 2.6.0\n"
     ]
    }
   ],
   "source": [
    "import sqlite3\n",
    "import pandas as pd\n",
    "import datetime\n",
    "\n",
    "print(\"SQLite3 ver\",sqlite3.version)"
   ]
  },
  {
   "cell_type": "markdown",
   "metadata": {},
   "source": [
    "Connect to the Database"
   ]
  },
  {
   "cell_type": "code",
   "execution_count": 11,
   "metadata": {},
   "outputs": [],
   "source": [
    "con = sqlite3.connect('database_mstr.special_parts_shop_database')\n",
    "cur = con.cursor()"
   ]
  },
  {
   "cell_type": "markdown",
   "metadata": {},
   "source": [
    "Create Tables"
   ]
  },
  {
   "cell_type": "code",
   "execution_count": 20,
   "metadata": {},
   "outputs": [],
   "source": [
    "# Create table\n",
    "sql = '''\n",
    "create table Region(\n",
    "\tid INTEGER PRIMARY KEY AUTOINCREMENT,\n",
    "  \tname varchar(25) not null\n",
    ");\n",
    "'''\n",
    "cur.execute(sql)\n",
    "\n",
    "sql = '''\n",
    "create table Province(\n",
    "\tid char(2) not null,\n",
    "\tname varchar(10) not null, \n",
    "\tid_region int not null,\n",
    "\tprimary key(id),\n",
    "\tforeign key (id_region) references Region(id)\n",
    ");\n",
    "'''\n",
    "cur.execute(sql)\n",
    "\n",
    "sql = '''\n",
    "create table City(\n",
    "\tid INTEGER PRIMARY KEY AUTOINCREMENT,\n",
    "\tname varchar(25) not null, \n",
    "\tid_province char(2) not null,\n",
    "\tforeign key (id_province) references Province(id)\n",
    ");\n",
    "'''\n",
    "cur.execute(sql)\n",
    "\n",
    "sql = '''\n",
    "create table CAP(\n",
    "\tcap_code char(5) not null, \n",
    "\tid_city int not null,\n",
    "\tprimary key (cap_code),\n",
    "\tforeign key (id_city) references City(id)\n",
    ");\n",
    "'''\n",
    "cur.execute(sql)\n",
    "\n",
    "sql = '''\n",
    "create table Customer(\n",
    "\tid varchar(36) not null,\n",
    "\tname varchar(30) not null,\n",
    "\tsurname varchar(30) not null,\n",
    "\tcap char(5) not null,\n",
    "\tcustomer_type char(1) not null, \n",
    "\tfiscal_code varchar(16),\n",
    "\tvat varchar(16),\n",
    "\tprimary key (id),\n",
    "\tforeign key (cap) references CAP(cap_code),\n",
    "\tCONSTRAINT `customer_type_chk` CHECK (customer_type in ('C', 'P')),\n",
    "\tCONSTRAINT `is_valid_customer_chk` CHECK (\n",
    "\t\t(customer_type = 'P' and fiscal_code is not null and vat is null) \n",
    "\t\tor (customer_type = 'C' and vat is not null and fiscal_code is null)\n",
    "\t)\n",
    ");\n",
    "'''\n",
    "cur.execute(sql)\n",
    "\n",
    "sql = '''\n",
    "create table Payment(\n",
    "\tid char(36) not null, \n",
    "\tpayment_type varchar(10) CHECK( payment_type IN ('card','cash') ) not null,\n",
    "\ttotal FLOAT not null,\n",
    "\tid_transaction char(10),\n",
    "\tprimary key (id),\n",
    "\tCONSTRAINT `is_valid_payment_chk` CHECK (\n",
    "\t\t(payment_type = 'cash' and id_transaction is null) OR (payment_type = 'card' and id_transaction is not null)\n",
    "\t)\n",
    ");\n",
    "'''\n",
    "cur.execute(sql)\n",
    "\n",
    "sql = '''\n",
    "create table `order`(\n",
    "\tid char(36) not null,\n",
    "\tid_customer varchar(36) not null,\n",
    "\tid_payment varchar(36) not null,\n",
    "\tdate_order date not null,\n",
    "\tprimary key(id),\n",
    "\tforeign key (id_customer) references Customer(id),\n",
    "\tforeign key (id_payment) references Payment(id)\n",
    ");\n",
    "'''\n",
    "cur.execute(sql)\n",
    "\n",
    "sql = '''\n",
    "create table Category_Product(\n",
    "\tid INTEGER PRIMARY KEY AUTOINCREMENT,\n",
    "\tname varchar(25) not null\n",
    ");\n",
    "'''\n",
    "cur.execute(sql)\n",
    "\n",
    "sql = '''\n",
    "create table Product(\n",
    "\tid INTEGER PRIMARY KEY AUTOINCREMENT,\n",
    "\tname varchar(30) not null,\n",
    "\tdescription varchar (40) not null, \n",
    "\tunit_cost float not null,\n",
    "\tselling_price float not null,\n",
    "\tid_category int not null,\n",
    "\tforeign key(id_category) references Category_Product(id)\n",
    ");\n",
    "'''\n",
    "cur.execute(sql)\n",
    "\n",
    "sql = '''\n",
    "create table OrderContainsProduct(\n",
    "\tid_product int not null,\n",
    "\tid_order varchar(36) not null, \n",
    "\tquantity int not null,\n",
    "\tprice int not null,\n",
    "\tdiscount_presence int not null, \n",
    "\tprimary key (id_product, id_order),\n",
    "\tforeign key (id_product) references Product(id),\n",
    "\tforeign key (id_order) references `order`(id)\n",
    ");\n",
    "'''\n",
    "cur.execute(sql)\n",
    "\n",
    "\n",
    "sql = '''\n",
    "create table Promotion(\n",
    "\tid INTEGER PRIMARY KEY AUTOINCREMENT,\n",
    "\tpercent_off float not null,\n",
    "\tdate_start date not null,\n",
    "\tdate_finish date not null,\n",
    "\tid_product int not null,\n",
    "\tforeign key (id_product) references Product(id)\n",
    ");\n",
    "'''\n",
    "cur.execute(sql)\n",
    "\n",
    "sql = '''\n",
    "create table ProductCompatibleVehicle(\n",
    "\tid_product int not null, \n",
    "\tid_vehicle int not null,\n",
    "\tprimary key(id_product, id_vehicle),\n",
    "\tforeign key(id_product) references Product(id),\n",
    "\tforeign key(id_vehicle) references Vehicle(id)\n",
    ");\n",
    "'''\n",
    "cur.execute(sql)\n",
    "\n",
    "sql = '''\n",
    "create table Brand(\n",
    "\tid INTEGER PRIMARY KEY AUTOINCREMENT,\n",
    "\tname char(25) not null\n",
    ");\n",
    "'''\n",
    "cur.execute(sql)\n",
    "\n",
    "sql = '''\n",
    "create table Vehicle(\n",
    "\tid INTEGER PRIMARY KEY AUTOINCREMENT,\n",
    "\tname varchar(25) not null,\n",
    "\ttype varchar(20) CHECK( type IN ('Suv', 'Supercar', 'Utilitarian', 'Sedan', 'Truck' ) ) not null,\n",
    "\tid_brand int not null,\n",
    "\tforeign key (id_brand) references Brand(id)\n",
    ");\n",
    "'''\n",
    "cur.execute(sql)\n",
    "\n",
    "# Save (commit) the changes\n",
    "con.commit()\n"
   ]
  },
  {
   "cell_type": "markdown",
   "metadata": {
    "collapsed": false
   },
   "source": [
    "Insert Data inside Database"
   ]
  },
  {
   "cell_type": "code",
   "execution_count": 21,
   "metadata": {
    "collapsed": false,
    "pycharm": {
     "name": "#%%\n"
    }
   },
   "outputs": [],
   "source": [
    "sql = '''\n",
    "INSERT INTO region (name) VALUES\n",
    "\t ('Sicilia'), ('Puglia'), ('Lombardia'), ('Piemonte'), ('Calabria'), ('Toscana');\n",
    "'''\n",
    "cur.execute(sql)\n",
    "\n",
    "sql = '''\n",
    "INSERT INTO province (id,name,id_region) VALUES\n",
    "\t ('BA','Bari',2), ('CT','Catania',1), ('FI','Firenze',6), ('MI','Milano',3), ('TO','Torino',4);\n",
    "'''\n",
    "cur.execute(sql)\n",
    "\n",
    "sql = '''\n",
    "INSERT INTO city (name,id_province) VALUES\n",
    "\t ('Catania','CT'), ('Milano','MI'), ('Adrano','CT'), ('Cormano','MI');\n",
    "'''\n",
    "cur.execute(sql)\n",
    "\n",
    "sql = '''\n",
    "INSERT INTO cap (cap_code,id_city) VALUES\n",
    "\t ('95121',1), ('95128',1), ('20020',2), ('20021',2), ('95031',3), ('20030',4);\n",
    "'''\n",
    "cur.execute(sql)\n",
    "\n",
    "sql = '''\n",
    "INSERT INTO customer (id,name,surname,cap,customer_type,fiscal_code,vat) VALUES\n",
    "\t ('c7d5adf9-d530-11ec-8b01-34e6d73b10fe','John','Light','95031','P','GVNCHR1234567890',NULL),\n",
    "\t ('c9915286-d530-11ec-8b01-34e6d73b10fe','Mary','Who','95121','C',NULL,'12345678910'),\n",
    "\t ('cabc4b27-d530-11ec-8b01-34e6d73b10fe','Rose','Light','95128','P','RSELGT1234567890',NULL),\n",
    "\t ('cba92bfc-d530-11ec-8b01-34e6d73b10fe','Claudio','Michels','20020','P','CLDMCH1234567890',NULL),\n",
    "\t ('ccd6d70e-d530-11ec-8b01-34e6d73b10fe','Johnny','Michels','20021','P','JHNMCH1234567890',NULL),\n",
    "\t ('cd9c68f9-d530-11ec-8b01-34e6d73b10fe','Seraphine','Cloud','95121','C',NULL,'12345671234'),\n",
    "\t ('ce49af91-d530-11ec-8b01-34e6d73b10fe','Joseph','Michels','20020','C',NULL,'12345675678'),\n",
    "\t ('cf1ab3fe-d530-11ec-8b01-34e6d73b10fe','Andrew','Sunday','20030','P','ANDSND1234567890',NULL),\n",
    "\t ('cfce0897-d530-11ec-8b01-34e6d73b10fe','Micky ','O'' Connor','95121','C',NULL,'43215678910'),\n",
    "\t ('d0840a43-d530-11ec-8b01-34e6d73b10fe','Elijah ','Who','20030','C',NULL,'7777678910');\n",
    "'''\n",
    "cur.execute(sql)\n",
    "\n",
    "sql = '''\n",
    "INSERT INTO payment (id,payment_type,total,id_transaction) VALUES\n",
    "\t ('3523cc2f-b603-4520-9c0b-518f869687f0','card',35.0,'1111'),\n",
    "\t ('3c82f3b8-019d-4d35-af20-3193b9b8a7de','card',5.0,'2222'),\n",
    "\t ('3c94d5bf-97b0-4475-9212-354d924510ca','card',4.0,'3333'),\n",
    "\t ('82c67a61-9aa1-45c5-aa0c-ec97e6b7c8c9','cash',2.0,NULL),\n",
    "\t ('99826162-9197-4508-9f67-cd3bd050034c','cash',55.0,NULL),\n",
    "\t ('f7fdf6bf-3af8-4652-b32a-61890488b3bd','card',55.0,'212321213'),\n",
    "\t ('fb19c62f-e4e9-448b-ae41-cc340a9814d4','cash',11.0,NULL);\n",
    "'''\n",
    "cur.execute(sql)\n",
    "\n",
    "sql = '''\n",
    "INSERT INTO `order` (id,id_customer,id_payment,date_order) VALUES\n",
    "\t ('51e16ad1-d5f1-11ec-8b01-34e6d73b10fe','c7d5adf9-d530-11ec-8b01-34e6d73b10fe','3523cc2f-b603-4520-9c0b-518f869687f0','2022-01-01'),\n",
    "\t ('51e2ffd7-d5f1-11ec-8b01-34e6d73b10fe','c9915286-d530-11ec-8b01-34e6d73b10fe','3c82f3b8-019d-4d35-af20-3193b9b8a7de','2022-01-02'),\n",
    "\t ('51e3c0be-d5f1-11ec-8b01-34e6d73b10fe','ccd6d70e-d530-11ec-8b01-34e6d73b10fe','82c67a61-9aa1-45c5-aa0c-ec97e6b7c8c9','2022-01-03'),\n",
    "\t ('51e46ade-d5f1-11ec-8b01-34e6d73b10fe','ccd6d70e-d530-11ec-8b01-34e6d73b10fe','fb19c62f-e4e9-448b-ae41-cc340a9814d4','2022-01-14'),\n",
    "\t ('51e50b61-d5f1-11ec-8b01-34e6d73b10fe','cf1ab3fe-d530-11ec-8b01-34e6d73b10fe','99826162-9197-4508-9f67-cd3bd050034c','2022-01-04'),\n",
    "\t ('ecad129d-a580-4acf-ac31-c8f47771d335','cf1ab3fe-d530-11ec-8b01-34e6d73b10fe','f7fdf6bf-3af8-4652-b32a-61890488b3bd','2022-01-04');\n",
    "'''\n",
    "cur.execute(sql)\n",
    "\n",
    "sql = '''\n",
    "INSERT INTO category_product (name) VALUES\n",
    "\t ('Carrozzeria'), ('Elettrico'), ('Vetro'), ('Tergicristalli'), ('Freno');\n",
    "'''\n",
    "cur.execute(sql)\n",
    "\n",
    "sql = '''\n",
    "INSERT INTO product (name,description,unit_cost,selling_price,id_category) VALUES\n",
    "\t ('Batteria Avviamento Y3','Applicazione automatica',10.0,35.0,2),\n",
    "\t ('Specchio retrovisore esterno','Sx, convesso, termico',4.0,11.0,1),\n",
    "\t ('Specchio retrovisore interno','Sx, convesso, termico',4.0,11.0,1),\n",
    "\t ('Batteria Avviamento Y5','Applicazione automatica',25.0,55.0,2),\n",
    "\t ('Lente diffusore ','Faro principale',1.0,5.0,3),\n",
    "\t ('Lente diffusore crystal','Faro principale',1.0,10.0,3),\n",
    "\t ('Spazzola Tergi STAR','Spazzola tergi a staffa senza spoiler,',0.6,2.0,4),\n",
    "\t ('Batteria Avviamento Y7','Applicazione automatica',35.0,75.0,2),\n",
    "\t ('Spazzola Tergi KODA','Spazzola tergi a staffa senza spoiler,',0.55,2.0,4),\n",
    "\t ('Pastiglie freno','Assetto posteriore',1.0,4.0,5);\n",
    "'''\n",
    "cur.execute(sql)\n",
    "\n",
    "sql = '''\n",
    "INSERT INTO ordercontainsproduct (id_product,id_order,quantity,price,discount_presence) VALUES\n",
    "\t (1,'51e16ad1-d5f1-11ec-8b01-34e6d73b10fe',2,35,0),\n",
    "\t (1,'51e46ade-d5f1-11ec-8b01-34e6d73b10fe',1,2,1),\n",
    "\t (2,'51e16ad1-d5f1-11ec-8b01-34e6d73b10fe',1,35,1),\n",
    "\t (2,'51e2ffd7-d5f1-11ec-8b01-34e6d73b10fe',1,11,1),\n",
    "\t (2,'51e3c0be-d5f1-11ec-8b01-34e6d73b10fe',4,11,0),\n",
    "\t (4,'51e46ade-d5f1-11ec-8b01-34e6d73b10fe',10,55,0),\n",
    "\t (5,'51e2ffd7-d5f1-11ec-8b01-34e6d73b10fe',22,1,0),\n",
    "\t (5,'51e50b61-d5f1-11ec-8b01-34e6d73b10fe',1,5,0);\n",
    "'''\n",
    "cur.execute(sql)\n",
    "\n",
    "sql = '''\n",
    "INSERT INTO promotion (percent_off,date_start,date_finish,id_product) VALUES\n",
    "\t (10.0,'2022-01-01','2022-01-01',2),\n",
    "\t (10.0,'2022-01-01','2022-01-01',3),\n",
    "\t (10.0,'2022-01-10','2022-01-15',1),\n",
    "\t (20.0,'2022-01-30','2022-02-15',4),\n",
    "\t (20.0,'2022-01-10','2022-01-15',5),\n",
    "\t (40.0,'2022-01-10','2022-01-15',6),\n",
    "\t (40.0,'2022-01-01','2022-01-01',7),\n",
    "\t (50.0,'2022-01-01','2022-01-01',8),\n",
    "\t (20.0,'2022-01-30','2022-02-15',9),\n",
    "\t (20.0,'2022-01-30','2022-02-15',10);\n",
    "'''\n",
    "cur.execute(sql)\n",
    "\n",
    "sql = '''\n",
    "INSERT INTO brand (name) VALUES\n",
    "\t ('BMW'), ('Mercedes'), ('Volkswagen'), ('Hyundai'), ('Fiat'), ('Alfa Romeo');\n",
    "'''\n",
    "cur.execute(sql)\n",
    "\n",
    "sql = '''\n",
    "INSERT INTO vehicle (name,`type`,id_brand) VALUES\n",
    "\t ('Panda','Utilitarian',5), ('500','Utilitarian',5), ('MITO','Utilitarian',6), ('GLA','Suv',2), ('X7','Suv',1);\n",
    "'''\n",
    "cur.execute(sql)\n",
    "\n",
    "sql = '''\n",
    "INSERT INTO productcompatiblevehicle (id_product,id_vehicle) VALUES\n",
    "\t (1,1), (1,3), (2,3), (3,3), (4,5), (5,2), (6,4);\n",
    "'''\n",
    "cur.execute(sql)\n",
    "\n",
    "sql = '''\n",
    "INSERT INTO region (name) VALUES\n",
    "\t ('Sicilia'),\n",
    "\t ('Puglia'),\n",
    "\t ('Lombardia'),\n",
    "\t ('Piemonte'),\n",
    "\t ('Calabria'),\n",
    "\t ('Toscana');\n",
    "'''\n",
    "cur.execute(sql)\n",
    "\n",
    "# Save (commit) the changes\n",
    "con.commit()"
   ]
  },
  {
   "cell_type": "markdown",
   "metadata": {
    "collapsed": false
   },
   "source": [
    " ### 1. For a specific customer, determine the quantities of each product purchased in a given period"
   ]
  },
  {
   "cell_type": "code",
   "execution_count": 22,
   "metadata": {
    "collapsed": false,
    "pycharm": {
     "name": "#%%\n"
    }
   },
   "outputs": [
    {
     "data": {
      "text/html": [
       "<div>\n",
       "<style scoped>\n",
       "    .dataframe tbody tr th:only-of-type {\n",
       "        vertical-align: middle;\n",
       "    }\n",
       "\n",
       "    .dataframe tbody tr th {\n",
       "        vertical-align: top;\n",
       "    }\n",
       "\n",
       "    .dataframe thead th {\n",
       "        text-align: right;\n",
       "    }\n",
       "</style>\n",
       "<table border=\"1\" class=\"dataframe\">\n",
       "  <thead>\n",
       "    <tr style=\"text-align: right;\">\n",
       "      <th></th>\n",
       "      <th>0</th>\n",
       "      <th>1</th>\n",
       "      <th>2</th>\n",
       "      <th>3</th>\n",
       "    </tr>\n",
       "  </thead>\n",
       "  <tbody>\n",
       "    <tr>\n",
       "      <th>0</th>\n",
       "      <td>c7d5adf9-d530-11ec-8b01-34e6d73b10fe</td>\n",
       "      <td>John</td>\n",
       "      <td>Batteria Avviamento Y3</td>\n",
       "      <td>2</td>\n",
       "    </tr>\n",
       "    <tr>\n",
       "      <th>1</th>\n",
       "      <td>c7d5adf9-d530-11ec-8b01-34e6d73b10fe</td>\n",
       "      <td>John</td>\n",
       "      <td>Specchio retrovisore esterno</td>\n",
       "      <td>1</td>\n",
       "    </tr>\n",
       "  </tbody>\n",
       "</table>\n",
       "</div>"
      ],
      "text/plain": [
       "                                      0     1                             2  3\n",
       "0  c7d5adf9-d530-11ec-8b01-34e6d73b10fe  John        Batteria Avviamento Y3  2\n",
       "1  c7d5adf9-d530-11ec-8b01-34e6d73b10fe  John  Specchio retrovisore esterno  1"
      ]
     },
     "execution_count": 22,
     "metadata": {},
     "output_type": "execute_result"
    }
   ],
   "source": [
    "query = '''\n",
    "select c.id, c.name, p.name, SUM(ocp.quantity) as qty\n",
    "from `order` o\n",
    "\tinner join customer c on o.id_customer = c.id \n",
    "\tinner join ordercontainsproduct ocp on ocp.id_order = o.id \n",
    "\tinner join product p on ocp.id_product = p.id\n",
    "where c.id = ? and o.date_order between ? and ?\n",
    "group by p.id\n",
    "'''\n",
    "\n",
    "input_customer_id = 'c7d5adf9-d530-11ec-8b01-34e6d73b10fe'\n",
    "input_start_date = datetime.date(2022, 1, 1)\n",
    "input_end_date = datetime.date(2022, 1, 20)\n",
    "\n",
    "cur.execute(query, (input_customer_id, input_start_date, input_end_date ))\n",
    "\n",
    "pd.DataFrame(cur.fetchall())"
   ]
  },
  {
   "cell_type": "markdown",
   "metadata": {
    "collapsed": false
   },
   "source": [
    " ### 2. For a given product, determine the number of separate customers who purchased it in a given period"
   ]
  },
  {
   "cell_type": "code",
   "execution_count": 24,
   "metadata": {
    "collapsed": false,
    "pycharm": {
     "name": "#%%\n"
    }
   },
   "outputs": [
    {
     "data": {
      "text/html": [
       "<div>\n",
       "<style scoped>\n",
       "    .dataframe tbody tr th:only-of-type {\n",
       "        vertical-align: middle;\n",
       "    }\n",
       "\n",
       "    .dataframe tbody tr th {\n",
       "        vertical-align: top;\n",
       "    }\n",
       "\n",
       "    .dataframe thead th {\n",
       "        text-align: right;\n",
       "    }\n",
       "</style>\n",
       "<table border=\"1\" class=\"dataframe\">\n",
       "  <thead>\n",
       "    <tr style=\"text-align: right;\">\n",
       "      <th></th>\n",
       "      <th>0</th>\n",
       "    </tr>\n",
       "  </thead>\n",
       "  <tbody>\n",
       "    <tr>\n",
       "      <th>0</th>\n",
       "      <td>3</td>\n",
       "    </tr>\n",
       "  </tbody>\n",
       "</table>\n",
       "</div>"
      ],
      "text/plain": [
       "   0\n",
       "0  3"
      ]
     },
     "execution_count": 24,
     "metadata": {},
     "output_type": "execute_result"
    }
   ],
   "source": [
    "query = '''\n",
    "select count (distinct c.id) as n_customer\n",
    "from customer as c \n",
    "inner join `order` o on c.id = o.id_customer \n",
    "inner join ordercontainsproduct o2 on o2.id_order = o.id \n",
    "inner join product p on o2.id_product = p.id \n",
    "where p.id = ? and o.date_order between ? and ?\n",
    "'''\n",
    "\n",
    "input_start_date = datetime.date(2022, 1, 1)\n",
    "input_end_date = datetime.date(2022, 1, 20)\n",
    "input_prod_code = 2\n",
    "\n",
    "cur.execute(query, (input_prod_code, input_start_date, input_end_date ))\n",
    "\n",
    "pd.DataFrame(cur.fetchall())"
   ]
  },
  {
   "cell_type": "markdown",
   "metadata": {
    "collapsed": false
   },
   "source": [
    "### 3. Identify all customers who have purchased a product in promotion, indicating the cap of residence"
   ]
  },
  {
   "cell_type": "code",
   "execution_count": 25,
   "metadata": {
    "collapsed": false,
    "pycharm": {
     "name": "#%%\n"
    }
   },
   "outputs": [
    {
     "data": {
      "text/html": [
       "<div>\n",
       "<style scoped>\n",
       "    .dataframe tbody tr th:only-of-type {\n",
       "        vertical-align: middle;\n",
       "    }\n",
       "\n",
       "    .dataframe tbody tr th {\n",
       "        vertical-align: top;\n",
       "    }\n",
       "\n",
       "    .dataframe thead th {\n",
       "        text-align: right;\n",
       "    }\n",
       "</style>\n",
       "<table border=\"1\" class=\"dataframe\">\n",
       "  <thead>\n",
       "    <tr style=\"text-align: right;\">\n",
       "      <th></th>\n",
       "      <th>0</th>\n",
       "      <th>1</th>\n",
       "      <th>2</th>\n",
       "    </tr>\n",
       "  </thead>\n",
       "  <tbody>\n",
       "    <tr>\n",
       "      <th>0</th>\n",
       "      <td>ccd6d70e-d530-11ec-8b01-34e6d73b10fe</td>\n",
       "      <td>Johnny</td>\n",
       "      <td>20021</td>\n",
       "    </tr>\n",
       "    <tr>\n",
       "      <th>1</th>\n",
       "      <td>c7d5adf9-d530-11ec-8b01-34e6d73b10fe</td>\n",
       "      <td>John</td>\n",
       "      <td>95031</td>\n",
       "    </tr>\n",
       "    <tr>\n",
       "      <th>2</th>\n",
       "      <td>c9915286-d530-11ec-8b01-34e6d73b10fe</td>\n",
       "      <td>Mary</td>\n",
       "      <td>95121</td>\n",
       "    </tr>\n",
       "  </tbody>\n",
       "</table>\n",
       "</div>"
      ],
      "text/plain": [
       "                                      0       1      2\n",
       "0  ccd6d70e-d530-11ec-8b01-34e6d73b10fe  Johnny  20021\n",
       "1  c7d5adf9-d530-11ec-8b01-34e6d73b10fe    John  95031\n",
       "2  c9915286-d530-11ec-8b01-34e6d73b10fe    Mary  95121"
      ]
     },
     "execution_count": 25,
     "metadata": {},
     "output_type": "execute_result"
    }
   ],
   "source": [
    "query = '''\n",
    "select c.id, c.name, c.cap\n",
    "from product p\n",
    "\tinner join promotion promo on p.id = promo.id_product \n",
    "\tinner join ordercontainsproduct ocp on ocp.id_product = p.id\n",
    "\tinner join `order` o on o.id = ocp.id_order \n",
    "\tinner join customer c on c.id = o.id_customer \n",
    "where ocp.discount_presence = TRUE\n",
    "group by c.cap \n",
    "'''\n",
    "\n",
    "cur.execute(query)\n",
    "\n",
    "pd.DataFrame(cur.fetchall())"
   ]
  },
  {
   "cell_type": "markdown",
   "metadata": {
    "collapsed": false
   },
   "source": [
    "### 4. For a specific CAP, identify customers who have made purchases in a given period"
   ]
  },
  {
   "cell_type": "code",
   "execution_count": 28,
   "metadata": {
    "collapsed": false,
    "pycharm": {
     "name": "#%%\n"
    }
   },
   "outputs": [
    {
     "data": {
      "text/html": [
       "<div>\n",
       "<style scoped>\n",
       "    .dataframe tbody tr th:only-of-type {\n",
       "        vertical-align: middle;\n",
       "    }\n",
       "\n",
       "    .dataframe tbody tr th {\n",
       "        vertical-align: top;\n",
       "    }\n",
       "\n",
       "    .dataframe thead th {\n",
       "        text-align: right;\n",
       "    }\n",
       "</style>\n",
       "<table border=\"1\" class=\"dataframe\">\n",
       "  <thead>\n",
       "    <tr style=\"text-align: right;\">\n",
       "      <th></th>\n",
       "      <th>0</th>\n",
       "      <th>1</th>\n",
       "      <th>2</th>\n",
       "      <th>3</th>\n",
       "      <th>4</th>\n",
       "      <th>5</th>\n",
       "      <th>6</th>\n",
       "    </tr>\n",
       "  </thead>\n",
       "  <tbody>\n",
       "    <tr>\n",
       "      <th>0</th>\n",
       "      <td>c7d5adf9-d530-11ec-8b01-34e6d73b10fe</td>\n",
       "      <td>John</td>\n",
       "      <td>Light</td>\n",
       "      <td>95031</td>\n",
       "      <td>P</td>\n",
       "      <td>GVNCHR1234567890</td>\n",
       "      <td>None</td>\n",
       "    </tr>\n",
       "  </tbody>\n",
       "</table>\n",
       "</div>"
      ],
      "text/plain": [
       "                                      0     1      2      3  4  \\\n",
       "0  c7d5adf9-d530-11ec-8b01-34e6d73b10fe  John  Light  95031  P   \n",
       "\n",
       "                  5     6  \n",
       "0  GVNCHR1234567890  None  "
      ]
     },
     "execution_count": 28,
     "metadata": {},
     "output_type": "execute_result"
    }
   ],
   "source": [
    "query = '''\n",
    "select c.*\n",
    "from customer as c \n",
    "\tinner join `order` o on c.id = o.id_customer \n",
    "\tinner join cap ca on c.cap = ca.cap_code\n",
    "where ca.cap_code = ? and o.date_order between ? and ?\n",
    "'''\n",
    "\n",
    "input_cap = '95031'\n",
    "input_start_date = datetime.date(2022, 1, 1)\n",
    "input_end_date = datetime.date(2022, 1, 20)\n",
    "\n",
    "cur.execute(query, (input_cap, input_start_date, input_end_date ))\n",
    "\n",
    "pd.DataFrame(cur.fetchall())"
   ]
  },
  {
   "cell_type": "markdown",
   "metadata": {
    "collapsed": false
   },
   "source": [
    "### 5. For a specific car model, identify the revenue of the items in a given period"
   ]
  },
  {
   "cell_type": "code",
   "execution_count": 30,
   "metadata": {
    "collapsed": false,
    "pycharm": {
     "name": "#%%\n"
    }
   },
   "outputs": [
    {
     "data": {
      "text/html": [
       "<div>\n",
       "<style scoped>\n",
       "    .dataframe tbody tr th:only-of-type {\n",
       "        vertical-align: middle;\n",
       "    }\n",
       "\n",
       "    .dataframe tbody tr th {\n",
       "        vertical-align: top;\n",
       "    }\n",
       "\n",
       "    .dataframe thead th {\n",
       "        text-align: right;\n",
       "    }\n",
       "</style>\n",
       "<table border=\"1\" class=\"dataframe\">\n",
       "  <thead>\n",
       "    <tr style=\"text-align: right;\">\n",
       "      <th></th>\n",
       "      <th>0</th>\n",
       "      <th>1</th>\n",
       "      <th>2</th>\n",
       "      <th>3</th>\n",
       "      <th>4</th>\n",
       "    </tr>\n",
       "  </thead>\n",
       "  <tbody>\n",
       "    <tr>\n",
       "      <th>0</th>\n",
       "      <td>72</td>\n",
       "      <td>MITO</td>\n",
       "      <td>2022-01-01</td>\n",
       "      <td>1</td>\n",
       "      <td>Batteria Avviamento Y3</td>\n",
       "    </tr>\n",
       "    <tr>\n",
       "      <th>1</th>\n",
       "      <td>90</td>\n",
       "      <td>MITO</td>\n",
       "      <td>2022-01-01</td>\n",
       "      <td>2</td>\n",
       "      <td>Specchio retrovisore esterno</td>\n",
       "    </tr>\n",
       "  </tbody>\n",
       "</table>\n",
       "</div>"
      ],
      "text/plain": [
       "    0     1           2  3                             4\n",
       "0  72  MITO  2022-01-01  1        Batteria Avviamento Y3\n",
       "1  90  MITO  2022-01-01  2  Specchio retrovisore esterno"
      ]
     },
     "execution_count": 30,
     "metadata": {},
     "output_type": "execute_result"
    }
   ],
   "source": [
    "query = '''\n",
    "select SUM(ocp.price * ocp.quantity) as total_with_discount, v.name, op.date_order, pr.id, pr.name\n",
    "from vehicle v \n",
    "\tinner join productcompatiblevehicle pcv on v.id = pcv.id_vehicle \n",
    "\tinner join product pr on pr.id = pcv.id_product\n",
    "\tinner join ordercontainsproduct ocp on ocp.id_product = pr.id \n",
    "\tinner join `order` op on op.id = ocp.id_order \n",
    "\tinner join payment pay on pay.id = op.id_payment \n",
    "where v.id = ? and op.date_order between ? and ?\n",
    "group by pr.id\n",
    "'''\n",
    "\n",
    "input_vehicle_id = 3\n",
    "input_start_date = datetime.date(2022, 1, 1)\n",
    "input_end_date = datetime.date(2022, 1, 20)\n",
    "\n",
    "cur.execute(query, (input_vehicle_id, input_start_date, input_end_date ))\n",
    "\n",
    "pd.DataFrame(cur.fetchall())"
   ]
  },
  {
   "cell_type": "markdown",
   "metadata": {
    "collapsed": false
   },
   "source": [
    "### 6. For each item in promo determine the quantity sold in a given period "
   ]
  },
  {
   "cell_type": "code",
   "execution_count": 31,
   "metadata": {
    "collapsed": false,
    "pycharm": {
     "name": "#%%\n"
    }
   },
   "outputs": [
    {
     "data": {
      "text/html": [
       "<div>\n",
       "<style scoped>\n",
       "    .dataframe tbody tr th:only-of-type {\n",
       "        vertical-align: middle;\n",
       "    }\n",
       "\n",
       "    .dataframe tbody tr th {\n",
       "        vertical-align: top;\n",
       "    }\n",
       "\n",
       "    .dataframe thead th {\n",
       "        text-align: right;\n",
       "    }\n",
       "</style>\n",
       "<table border=\"1\" class=\"dataframe\">\n",
       "  <thead>\n",
       "    <tr style=\"text-align: right;\">\n",
       "      <th></th>\n",
       "      <th>0</th>\n",
       "      <th>1</th>\n",
       "      <th>2</th>\n",
       "    </tr>\n",
       "  </thead>\n",
       "  <tbody>\n",
       "    <tr>\n",
       "      <th>0</th>\n",
       "      <td>1</td>\n",
       "      <td>Batteria Avviamento Y3</td>\n",
       "      <td>1</td>\n",
       "    </tr>\n",
       "    <tr>\n",
       "      <th>1</th>\n",
       "      <td>2</td>\n",
       "      <td>Specchio retrovisore esterno</td>\n",
       "      <td>2</td>\n",
       "    </tr>\n",
       "  </tbody>\n",
       "</table>\n",
       "</div>"
      ],
      "text/plain": [
       "   0                             1  2\n",
       "0  1        Batteria Avviamento Y3  1\n",
       "1  2  Specchio retrovisore esterno  2"
      ]
     },
     "execution_count": 31,
     "metadata": {},
     "output_type": "execute_result"
    }
   ],
   "source": [
    "query = '''\n",
    "select pro.id, pro.name, SUM(ocp.quantity) \n",
    "from product pro \n",
    "\tinner join ordercontainsproduct ocp on pro.id = ocp.id_product \n",
    "\tinner join `order` o on o.id = ocp.id_order \n",
    "\tinner join payment pay on o.id_payment = pay.id \n",
    "where o.date_order between ? and ? and ocp.discount_presence = TRUE\n",
    "group by pro.id\n",
    "'''\n",
    "\n",
    "input_start_date = datetime.date(2022, 1, 1)\n",
    "input_end_date = datetime.date(2022, 1, 20)\n",
    "\n",
    "cur.execute(query, (input_start_date, input_end_date ))\n",
    "\n",
    "pd.DataFrame(cur.fetchall())"
   ]
  },
  {
   "cell_type": "markdown",
   "metadata": {
    "collapsed": false
   },
   "source": [
    "### 7. Identify the customers who have not made an electronic payment in the current year"
   ]
  },
  {
   "cell_type": "code",
   "execution_count": 32,
   "metadata": {
    "collapsed": false,
    "pycharm": {
     "name": "#%%\n"
    }
   },
   "outputs": [
    {
     "data": {
      "text/html": [
       "<div>\n",
       "<style scoped>\n",
       "    .dataframe tbody tr th:only-of-type {\n",
       "        vertical-align: middle;\n",
       "    }\n",
       "\n",
       "    .dataframe tbody tr th {\n",
       "        vertical-align: top;\n",
       "    }\n",
       "\n",
       "    .dataframe thead th {\n",
       "        text-align: right;\n",
       "    }\n",
       "</style>\n",
       "<table border=\"1\" class=\"dataframe\">\n",
       "  <thead>\n",
       "    <tr style=\"text-align: right;\">\n",
       "      <th></th>\n",
       "      <th>0</th>\n",
       "      <th>1</th>\n",
       "      <th>2</th>\n",
       "      <th>3</th>\n",
       "      <th>4</th>\n",
       "      <th>5</th>\n",
       "      <th>6</th>\n",
       "    </tr>\n",
       "  </thead>\n",
       "  <tbody>\n",
       "    <tr>\n",
       "      <th>0</th>\n",
       "      <td>ccd6d70e-d530-11ec-8b01-34e6d73b10fe</td>\n",
       "      <td>Johnny</td>\n",
       "      <td>Michels</td>\n",
       "      <td>20021</td>\n",
       "      <td>P</td>\n",
       "      <td>JHNMCH1234567890</td>\n",
       "      <td>None</td>\n",
       "    </tr>\n",
       "  </tbody>\n",
       "</table>\n",
       "</div>"
      ],
      "text/plain": [
       "                                      0       1        2      3  4  \\\n",
       "0  ccd6d70e-d530-11ec-8b01-34e6d73b10fe  Johnny  Michels  20021  P   \n",
       "\n",
       "                  5     6  \n",
       "0  JHNMCH1234567890  None  "
      ]
     },
     "execution_count": 32,
     "metadata": {},
     "output_type": "execute_result"
    }
   ],
   "source": [
    "query = '''\n",
    "select distinct c.*\n",
    "from customer c\n",
    "\tinner join `order` o on c.id = o.id_customer \n",
    "\tinner join ordercontainsproduct ocp on ocp.id_order = o.id \n",
    "\tinner join payment pay on o.id_payment = pay.id \n",
    "where pay.payment_type = \"cash\" and c.id not in (\n",
    "\tselect c2.id \n",
    "\tfrom customer c2 \n",
    "\t\tinner join `order` o2 on o2.id_customer = c.id\n",
    "\t\tinner join payment p2 on o2.id_payment = p2.id \n",
    "\twhere p2.payment_type = 'card'\n",
    ")\n",
    "'''\n",
    "\n",
    "cur.execute(query, ())\n",
    "\n",
    "pd.DataFrame(cur.fetchall())"
   ]
  },
  {
   "cell_type": "markdown",
   "metadata": {
    "collapsed": false
   },
   "source": [
    "### 8. Identify the customer who spent more in a given period"
   ]
  },
  {
   "cell_type": "code",
   "execution_count": 33,
   "metadata": {
    "collapsed": false,
    "pycharm": {
     "name": "#%%\n"
    }
   },
   "outputs": [
    {
     "data": {
      "text/html": [
       "<div>\n",
       "<style scoped>\n",
       "    .dataframe tbody tr th:only-of-type {\n",
       "        vertical-align: middle;\n",
       "    }\n",
       "\n",
       "    .dataframe tbody tr th {\n",
       "        vertical-align: top;\n",
       "    }\n",
       "\n",
       "    .dataframe thead th {\n",
       "        text-align: right;\n",
       "    }\n",
       "</style>\n",
       "<table border=\"1\" class=\"dataframe\">\n",
       "  <thead>\n",
       "    <tr style=\"text-align: right;\">\n",
       "      <th></th>\n",
       "      <th>0</th>\n",
       "      <th>1</th>\n",
       "      <th>2</th>\n",
       "      <th>3</th>\n",
       "      <th>4</th>\n",
       "    </tr>\n",
       "  </thead>\n",
       "  <tbody>\n",
       "    <tr>\n",
       "      <th>0</th>\n",
       "      <td>cf1ab3fe-d530-11ec-8b01-34e6d73b10fe</td>\n",
       "      <td>55.0</td>\n",
       "      <td>Lente diffusore</td>\n",
       "      <td>1</td>\n",
       "      <td>2022-01-04</td>\n",
       "    </tr>\n",
       "  </tbody>\n",
       "</table>\n",
       "</div>"
      ],
      "text/plain": [
       "                                      0     1                 2  3           4\n",
       "0  cf1ab3fe-d530-11ec-8b01-34e6d73b10fe  55.0  Lente diffusore   1  2022-01-04"
      ]
     },
     "execution_count": 33,
     "metadata": {},
     "output_type": "execute_result"
    }
   ],
   "source": [
    "query = '''\n",
    "select c.id, MAX(p.total) totale, prod.name, ocp.quantity, o.date_order \n",
    "from customer c \n",
    "\tinner join `order` o on c.id = o.id_customer \n",
    "\tinner join ordercontainsproduct ocp on ocp.id_order = o.id \n",
    "\tinner join product prod on ocp.id_product = prod.id \n",
    "\tinner join payment p on p.id = o.id_payment \n",
    "where o.date_order between ? and ?\n",
    "group by c.id\n",
    "order by totale desc\n",
    "limit 1\n",
    "'''\n",
    "\n",
    "input_start_date = datetime.date(2022, 1, 1)\n",
    "input_end_date = datetime.date(2022, 1, 20)\n",
    "\n",
    "cur.execute(query, (input_start_date, input_end_date ))\n",
    "\n",
    "pd.DataFrame(cur.fetchall())"
   ]
  },
  {
   "cell_type": "markdown",
   "metadata": {
    "collapsed": false
   },
   "source": [
    "### 9. For a specific CAP the average expense per invoice in a given period"
   ]
  },
  {
   "cell_type": "code",
   "execution_count": 36,
   "metadata": {
    "collapsed": false,
    "pycharm": {
     "name": "#%%\n"
    }
   },
   "outputs": [
    {
     "data": {
      "text/html": [
       "<div>\n",
       "<style scoped>\n",
       "    .dataframe tbody tr th:only-of-type {\n",
       "        vertical-align: middle;\n",
       "    }\n",
       "\n",
       "    .dataframe tbody tr th {\n",
       "        vertical-align: top;\n",
       "    }\n",
       "\n",
       "    .dataframe thead th {\n",
       "        text-align: right;\n",
       "    }\n",
       "</style>\n",
       "<table border=\"1\" class=\"dataframe\">\n",
       "  <thead>\n",
       "    <tr style=\"text-align: right;\">\n",
       "      <th></th>\n",
       "      <th>0</th>\n",
       "      <th>1</th>\n",
       "    </tr>\n",
       "  </thead>\n",
       "  <tbody>\n",
       "    <tr>\n",
       "      <th>0</th>\n",
       "      <td>20021</td>\n",
       "      <td>6.5</td>\n",
       "    </tr>\n",
       "  </tbody>\n",
       "</table>\n",
       "</div>"
      ],
      "text/plain": [
       "       0    1\n",
       "0  20021  6.5"
      ]
     },
     "execution_count": 36,
     "metadata": {},
     "output_type": "execute_result"
    }
   ],
   "source": [
    "query = '''\n",
    "select c.cap, AVG(pay.total) as spesa_media\n",
    "from payment pay \n",
    "\tinner join `order` o on o.id_payment = pay.id \n",
    "\tinner join customer c on c.id = o.id_customer\n",
    "where c.cap = ? and o.date_order between ? and ?\n",
    "'''\n",
    "\n",
    "input_cap = '20021'\n",
    "input_start_date = datetime.date(2022, 1, 1)\n",
    "input_end_date = datetime.date(2022, 1, 14)\n",
    "\n",
    "cur.execute(query, (input_cap, input_start_date, input_end_date ))\n",
    "\n",
    "pd.DataFrame(cur.fetchall())"
   ]
  },
  {
   "cell_type": "markdown",
   "metadata": {
    "collapsed": false
   },
   "source": [
    "### 10. For each category of products the total price paid for those sold in a given period.\n",
    "\n"
   ]
  },
  {
   "cell_type": "code",
   "execution_count": 40,
   "metadata": {
    "collapsed": false,
    "pycharm": {
     "name": "#%%\n"
    }
   },
   "outputs": [
    {
     "data": {
      "text/html": [
       "<div>\n",
       "<style scoped>\n",
       "    .dataframe tbody tr th:only-of-type {\n",
       "        vertical-align: middle;\n",
       "    }\n",
       "\n",
       "    .dataframe tbody tr th {\n",
       "        vertical-align: top;\n",
       "    }\n",
       "\n",
       "    .dataframe thead th {\n",
       "        text-align: right;\n",
       "    }\n",
       "</style>\n",
       "<table border=\"1\" class=\"dataframe\">\n",
       "  <thead>\n",
       "    <tr style=\"text-align: right;\">\n",
       "      <th></th>\n",
       "      <th>0</th>\n",
       "      <th>1</th>\n",
       "      <th>2</th>\n",
       "    </tr>\n",
       "  </thead>\n",
       "  <tbody>\n",
       "    <tr>\n",
       "      <th>0</th>\n",
       "      <td>2</td>\n",
       "      <td>Elettrico</td>\n",
       "      <td>622</td>\n",
       "    </tr>\n",
       "    <tr>\n",
       "      <th>1</th>\n",
       "      <td>1</td>\n",
       "      <td>Carrozzeria</td>\n",
       "      <td>90</td>\n",
       "    </tr>\n",
       "    <tr>\n",
       "      <th>2</th>\n",
       "      <td>3</td>\n",
       "      <td>Vetro</td>\n",
       "      <td>27</td>\n",
       "    </tr>\n",
       "  </tbody>\n",
       "</table>\n",
       "</div>"
      ],
      "text/plain": [
       "   0            1    2\n",
       "0  2    Elettrico  622\n",
       "1  1  Carrozzeria   90\n",
       "2  3        Vetro   27"
      ]
     },
     "execution_count": 40,
     "metadata": {},
     "output_type": "execute_result"
    }
   ],
   "source": [
    "query = '''\n",
    "select cp.id, cp.name, SUM(ocp.price*ocp.quantity)  \n",
    "from product p \n",
    "\tinner join ordercontainsproduct ocp on p.id = ocp.id_product \n",
    "\tinner join category_product cp on p.id_category = cp.id \n",
    "\tinner join `order` o on ocp.id_order = o.id \n",
    "\tinner join payment pay on o.id_payment = pay.id \n",
    "where o.date_order between ? and ?\n",
    "group by cp.id \n",
    "order by pay.total desc\n",
    "'''\n",
    "\n",
    "input_start_date = datetime.date(2022, 1, 1)\n",
    "input_end_date = datetime.date(2022, 2, 15)\n",
    "\n",
    "cur.execute(query, (input_start_date, input_end_date ))\n",
    "\n",
    "pd.DataFrame(cur.fetchall())"
   ]
  },
  {
   "cell_type": "markdown",
   "metadata": {
    "collapsed": false
   },
   "source": [
    "Close the connection"
   ]
  },
  {
   "cell_type": "code",
   "execution_count": 15,
   "metadata": {
    "collapsed": false,
    "pycharm": {
     "name": "#%%\n"
    }
   },
   "outputs": [],
   "source": [
    "cur.close()\n",
    "con.close()"
   ]
  }
 ],
 "metadata": {
  "interpreter": {
   "hash": "50f990802dba2a758c3edb3cbcbdbe0ad29c4ec951bcb2a9e9fd883dbf69f992"
  },
  "kernelspec": {
   "display_name": "Python 3.10.4 64-bit",
   "language": "python",
   "name": "python3"
  },
  "language_info": {
   "codemirror_mode": {
    "name": "ipython",
    "version": 3
   },
   "file_extension": ".py",
   "mimetype": "text/x-python",
   "name": "python",
   "nbconvert_exporter": "python",
   "pygments_lexer": "ipython3",
   "version": "3.10.4"
  }
 },
 "nbformat": 4,
 "nbformat_minor": 0
}
